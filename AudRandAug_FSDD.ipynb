{
  "cells": [
    {
      "cell_type": "code",
      "execution_count": null,
      "metadata": {
        "colab": {
          "base_uri": "https://localhost:8080/"
        },
        "id": "s8rJzk8W_uzn",
        "outputId": "117ebd72-1412-4b74-bd7e-bc4735c54be8"
      },
      "outputs": [
        {
          "output_type": "stream",
          "name": "stdout",
          "text": [
            "Mounted at /content/drive\n"
          ]
        }
      ],
      "source": [
        "import numpy as np\n",
        "import pandas as pd \n",
        "import os\n",
        "%matplotlib inline\n",
        "import matplotlib.pyplot as plt\n",
        "import os\n",
        "from scipy.io import wavfile\n",
        "from collections import defaultdict, Counter\n",
        "from scipy import signal\n",
        "import numpy as np\n",
        "import librosa\n",
        "import random as rn\n",
        "import tensorflow as tf\n",
        "from tensorflow import keras\n",
        "import warnings\n",
        "warnings.filterwarnings(\"ignore\")\n",
        "\n",
        "from google.colab import drive\n",
        "drive.mount('/content/drive')\n"
      ]
    },
    {
      "cell_type": "code",
      "execution_count": null,
      "metadata": {
        "id": "hRuvLPO4_v0V"
      },
      "outputs": [],
      "source": [
        "# FSDD\n",
        "#!git clone https://github.com/Jakobovski/free-spoken-digit-dataset.git\n"
      ]
    },
    {
      "cell_type": "code",
      "execution_count": null,
      "metadata": {
        "id": "-qWBaixl_3wC"
      },
      "outputs": [],
      "source": [
        "FSDD_baseline = 92.00\n",
        "FSDD_accuracies = np.array([94.5,94.83,92.50,92.50,97.33,97.83,93.00,96.5,92.16 ])\n",
        "\n",
        "def get_weights(accuracies, baseline):\n",
        "  diff = accuracies - baseline\n",
        "  sum_diff = np.sum(diff)\n",
        "  weights = diff / sum_diff\n",
        "  return weights\n",
        "\n",
        "def Weighted_AudioRandAug(N, M, Weights):\n",
        "  # Generate the best possible set of data aumgentation based on weigths \n",
        "  # Parameters:\n",
        "  #  N (Integer) :   Number of the data augmentations  \n",
        "  #  M (List)    :   List of best magnitudes of data augmentation    \n",
        "  # Weights(list):   Weights of each augmentation\n",
        "  \n",
        "  augmentations = [\"Noise Injection\", \"Pitch Shifting\",\"Time Stretching\",\n",
        "                  \"Padding\",\"Clip\",\"Reverse\",\"Band Pass Filter\",\n",
        "                  \"Gain\", \"Time Mask\"]\n",
        "\n",
        "  selected_augmentations = np.random.choice(augmentations, N, p = Weights)\n",
        "  # print(selected_augmentations)\n",
        "  idxs = [augmentations.index(i) for i in selected_augmentations]\n",
        "  select_mag = [M[i] for i in idxs]\n",
        "\n",
        "  return [(aug, m) for (m,aug) in zip(select_mag, selected_augmentations)]\n",
        "\n",
        "def Non_Weighted_AudioRandAug(N, M):\n",
        "    # Generate the best possible set of data aumgentation\n",
        "  # Parameters:\n",
        "  #  N (Integer) :   Number of the data augmentations  \n",
        "  #  M (List)    :   List of best magnitudes of data augmentation  \n",
        "\n",
        "\n",
        "  augmentations = [\"Noise Injection\", \"Pitch Shifting\",\"Time Stretching\",\n",
        "                  \"Padding\",\"Clip\",\"Reverse\",\"Band Pass Filter\",\n",
        "                  \"Gain\", \"Time Mask\"]\n",
        "  \n",
        "  \n",
        "  selected_augmentations = np.random.choice(augmentations, N)\n",
        "  idxs = [augmentations.index(i) for i in selected_augmentations]\n",
        "  select_mag = [M[i] for i in idxs]\n",
        "  \n",
        "  return [(aug, m) for (m,aug) in zip(select_mag, selected_augmentations)]\n"
      ]
    },
    {
      "cell_type": "code",
      "execution_count": null,
      "metadata": {
        "id": "UYNpWU58_4Z6"
      },
      "outputs": [],
      "source": [
        "!pip install audiomentations\n"
      ]
    },
    {
      "cell_type": "code",
      "source": [
        "# Weighted AudRandAug experiments\n",
        "M = [0.015,4.0,1.4,1.0,0.7,1.0,18,12,0.5]\n",
        "N = 2 # no of augmentations\n",
        "augs = Weighted_AudioRandAug(N, M, weights)\n",
        "augs[0]=(augs[0][0],6.2)\n",
        "print(augs[0])"
      ],
      "metadata": {
        "colab": {
          "base_uri": "https://localhost:8080/"
        },
        "id": "0eyOOz1rKs1z",
        "outputId": "33b5eef3-c788-4687-cff1-897c8887d29b"
      },
      "execution_count": null,
      "outputs": [
        {
          "output_type": "stream",
          "name": "stdout",
          "text": [
            "('Time Stretching', 6.2)\n"
          ]
        }
      ]
    },
    {
      "cell_type": "code",
      "execution_count": null,
      "metadata": {
        "id": "nuX8kFr8AnfC"
      },
      "outputs": [],
      "source": [
        "from typing import List\n",
        "from audiomentations import Compose, AddGaussianNoise, TimeStretch, PitchShift, Shift, Clip, Padding, Reverse, Trim, BandPassFilter, BandStopFilter,Gain,TimeMask\n",
        "\n",
        "def get_augs(augs:list):\n",
        "  augmentations = []\n",
        "  for augm in augs:\n",
        "    aug = augm[0]\n",
        "    mag = augm[1]\n",
        "    if aug == 'Noise Injection':\n",
        "        augmentations.append(AddGaussianNoise(min_amplitude=0.001, max_amplitude=mag, p=1.0))\n",
        "    elif aug == 'Pitch Shifting':\n",
        "        augmentations.append(PitchShift(min_semitones=-4, max_semitones=mag, p=1.0))\n",
        "    elif aug == 'Time Stretching':\n",
        "        augmentations.append(TimeStretch(min_rate=0.5, max_rate=mag, p=1.0))\n",
        "    elif aug == 'Clip':\n",
        "        augmentations.append(Clip( a_min=-1.0, a_max=mag, p=1.0))\n",
        "    elif aug == 'Padding':\n",
        "        augmentations.append(Padding(min_fraction=0.1,max_fraction=mag, p=1.0))\n",
        "    elif aug == 'Reverse':\n",
        "        augmentations.append(Reverse(p=1.0))\n",
        "    elif aug == 'Band Pass Filter':\n",
        "        augmentations.append(BandPassFilter(min_rolloff=12,max_rolloff=mag, p=1.0))\n",
        "    elif aug == 'Gain':\n",
        "      augmentations.append(Gain(min_gain_in_db=-12, max_gain_in_db=mag,p=1.0))\n",
        "    elif aug == 'Time Mask':\n",
        "      augmentations.append(TimeMask(min_band_part=0.1, max_band_part=mag,p=1.0))\n",
        "  return augmentations"
      ]
    },
    {
      "cell_type": "code",
      "source": [
        "import librosa.display\n",
        "\n",
        "y, sr = librosa.load('/content/free-spoken-digit-dataset/recordings/0_george_0.wav')\n",
        "\n",
        "fig, ax = plt.subplots()\n",
        "plt.axis('off')\n",
        "M = librosa.feature.melspectrogram(y=y, sr=sr)\n",
        "M_db = librosa.power_to_db(M, ref=np.max)\n",
        "img = librosa.display.specshow(M_db, y_axis='mel', x_axis='time', ax=ax)"
      ],
      "metadata": {
        "colab": {
          "base_uri": "https://localhost:8080/",
          "height": 248
        },
        "id": "I1gMVTsnWlZP",
        "outputId": "f62922f7-9067-4b98-f517-4f33904c66fa"
      },
      "execution_count": null,
      "outputs": [
        {
          "output_type": "display_data",
          "data": {
            "text/plain": [
              "<Figure size 432x288 with 1 Axes>"
            ],
            "image/png": "[encoded data removed]"
          },
          "metadata": {
            "needs_background": "light"
          }
        }
      ]
    },
    {
      "cell_type": "code",
      "source": [
        "augment = Compose(get_augs(augs))\n",
        "wav = augment(samples=y, sample_rate=sr)\n",
        "\n",
        "fig, ax = plt.subplots()\n",
        "plt.axis('off')\n",
        "M = librosa.feature.melspectrogram(y=wav, sr=sr)\n",
        "M_db = librosa.power_to_db(M, ref=np.max)\n",
        "img = librosa.display.specshow(M_db, y_axis='mel', x_axis='time', ax=ax)"
      ],
      "metadata": {
        "colab": {
          "base_uri": "https://localhost:8080/",
          "height": 248
        },
        "id": "Mq57IN6EYQ4X",
        "outputId": "3cf4a122-0c49-479c-a232-7fa8e2804b04"
      },
      "execution_count": null,
      "outputs": [
        {
          "output_type": "display_data",
          "data": {
            "text/plain": [
              "<Figure size 432x288 with 1 Axes>"
            ],
            "image/png": "[encoded data removed]"
          },
          "metadata": {
            "needs_background": "light"
          }
        }
      ]
    },
    {
      "cell_type": "code",
      "execution_count": null,
      "metadata": {
        "id": "yA_xmKp3LnIN"
      },
      "outputs": [],
      "source": [
        "def CalculateMFCC(y, sr):\n",
        "  melSpec = librosa.feature.mfcc(y=y, sr=sr)\n",
        "  dim = (32, 32)\n",
        "  resized = cv2.resize(melSpec, dim, interpolation = cv2.INTER_AREA)\n",
        "  return resized\n",
        "\n",
        "selected_augs = get_augs(augs)"
      ]
    },
    {
      "cell_type": "code",
      "execution_count": null,
      "metadata": {
        "id": "NoAuejCv_946"
      },
      "outputs": [],
      "source": [
        "import os\n",
        "import cv2\n",
        "\n",
        "x,y=[],[]\n",
        "\n",
        "count = 0\n",
        "import matplotlib.pyplot as plt\n",
        "\n",
        "for fname in os.listdir(DATA_DIR):\n",
        "  try:\n",
        "    if '.wav' not in fname or 'dima' in fname:\n",
        "      continue\n",
        "    struct = fname.split('_')\n",
        "    digit = struct[0]\n",
        "    speaker = struct[1]\n",
        "    wav, sr = librosa.load(DATA_DIR + fname)\n",
        "    augment = Compose(get_augs(augs))\n",
        "    wav = augment(samples=wav, sample_rate=sr)\n",
        "    #mel = librosa.feature.melspectrogram(y=wav, sr=sr)\n",
        "    #mel = cv2.resize(librosa.power_to_db(mel, ref=np.max), (225, 225, 1))\n",
        "    mel = CalculateMFCC(wav, sr)\n",
        "    x.append(mel)\n",
        "    y.append(int(digit))\n",
        "  except:\n",
        "    # nothing\n",
        "    count=0\n"
      ]
    },
    {
      "cell_type": "code",
      "source": [
        "len(x)"
      ],
      "metadata": {
        "colab": {
          "base_uri": "https://localhost:8080/"
        },
        "id": "4WounQeRdcoA",
        "outputId": "b312a380-35b7-4c90-e9fb-b73843f9186a"
      },
      "execution_count": null,
      "outputs": [
        {
          "output_type": "execute_result",
          "data": {
            "text/plain": [
              "3000"
            ]
          },
          "metadata": {},
          "execution_count": 265
        }
      ]
    },
    {
      "cell_type": "code",
      "execution_count": null,
      "metadata": {
        "colab": {
          "base_uri": "https://localhost:8080/",
          "height": 485
        },
        "id": "AN0aQsEKM8cJ",
        "outputId": "0035ba2b-fd1c-4f60-bcb6-c6e6e6dd1475"
      },
      "outputs": [
        {
          "output_type": "display_data",
          "data": {
            "text/plain": [
              "<Figure size 1440x576 with 9 Axes>"
            ],
            "image/png": "[encoded data removed]"
          },
          "metadata": {
            "needs_background": "light"
          }
        }
      ],
      "source": [
        "import numpy as np\n",
        "import matplotlib.pyplot as plt\n",
        "\n",
        "fig = plt.figure(figsize=(20, 8))\n",
        "columns = 3\n",
        "rows = 3\n",
        "for i in range(1, columns*rows +1):\n",
        "    img = x[i]\n",
        "    fig.add_subplot(rows, columns, i)\n",
        "    plt.imshow(img)\n",
        "plt.axis('off')    \n",
        "plt.show()"
      ]
    },
    {
      "cell_type": "code",
      "execution_count": null,
      "metadata": {
        "id": "I8FW-mENP0Rq"
      },
      "outputs": [],
      "source": [
        "from sklearn.model_selection import train_test_split\n",
        "\n",
        "\n",
        "x = np.array(x)\n",
        "y = tf.keras.utils.to_categorical(np.array(y))\n",
        "\n",
        "x_train, x_test, y_train, y_test = train_test_split(x, y, test_size=0.2, random_state=42)\n"
      ]
    },
    {
      "cell_type": "code",
      "execution_count": null,
      "metadata": {
        "colab": {
          "base_uri": "https://localhost:8080/"
        },
        "id": "TFCK-PLLQF-O",
        "outputId": "49d294e9-6d16-4155-830d-e5d6b33b238c"
      },
      "outputs": [
        {
          "output_type": "stream",
          "name": "stdout",
          "text": [
            "(2400, 32, 32)\n",
            "(2400, 10)\n",
            "(600, 32, 32)\n",
            "(600, 10)\n"
          ]
        }
      ],
      "source": [
        "print(x_train.shape)\n",
        "print(y_train.shape)\n",
        "print(x_test.shape)\n",
        "print(y_test.shape)\n"
      ]
    },
    {
      "cell_type": "code",
      "source": [
        "x_train = x_train.reshape(x_train.shape[0], x_train.shape[1], x_train.shape[2], 1)\n",
        "x_test = x_test.reshape(x_test.shape[0], x_test.shape[1], x_test.shape[2], 1)"
      ],
      "metadata": {
        "id": "IxlAbsRHd2oc"
      },
      "execution_count": null,
      "outputs": []
    },
    {
      "cell_type": "code",
      "source": [
        "print(x_train.shape)\n",
        "print(y_train.shape)\n",
        "print(x_test.shape)\n",
        "print(y_test.shape)"
      ],
      "metadata": {
        "colab": {
          "base_uri": "https://localhost:8080/"
        },
        "id": "hwNYarkieNs0",
        "outputId": "cd326cb4-263f-43e8-94fd-08ad48d9968c"
      },
      "execution_count": null,
      "outputs": [
        {
          "output_type": "stream",
          "name": "stdout",
          "text": [
            "(2400, 32, 32, 1)\n",
            "(2400, 10)\n",
            "(600, 32, 32, 1)\n",
            "(600, 10)\n"
          ]
        }
      ]
    },
    {
      "cell_type": "code",
      "source": [
        "from tensorflow.keras.callbacks import ModelCheckpoint\n",
        "\n",
        "\n",
        "model = tf.keras.models.Sequential([\n",
        "  tf.keras.layers.Conv2D(32, (3,3), activation='relu',\n",
        "                         kernel_regularizer=tf.keras.regularizers.l2(0.002), \n",
        "                         input_shape=(32, 32, 1)),\n",
        "  tf.keras.layers.MaxPooling2D(2, 2),\n",
        "  tf.keras.layers.Dropout(0.2),\n",
        "  tf.keras.layers.Conv2D(64, (1,1), activation='relu',kernel_regularizer=tf.keras.regularizers.l2(0.002)),\n",
        "  tf.keras.layers.MaxPooling2D(2,2),\n",
        "#   tf.keras.layers.Conv2D(64, (1,1), activation=tf.keras.layers.LeakyReLU()),\n",
        "#   tf.keras.layers.MaxPooling2D(2,2),  \n",
        "#   tf.keras.layers.Dropout(0.1),  \n",
        "    \n",
        "  tf.keras.layers.Flatten(),\n",
        "  tf.keras.layers.Dense(64, activation='relu',kernel_regularizer=tf.keras.regularizers.l2(0.002)),\n",
        "  tf.keras.layers.Dense(10, activation='softmax')\n",
        "])\n",
        "model.compile(optimizer = 'adam',\n",
        "              loss = 'categorical_crossentropy',metrics=['accuracy'])\n",
        "\n",
        "callbacks = ModelCheckpoint(\"model.h5\", monitor='val_accuracy',\n",
        "                                    mode='max',\n",
        "                                    save_best_only=True,\n",
        "                                    verbose=1)\n",
        "# model.fit(train_X, train_y, epochs=5,verbose =1)\n",
        "history = model.fit(x_train,\n",
        "          y_train,\n",
        "          epochs=100,\n",
        "          batch_size=64,\n",
        "          validation_data=(x_test, y_test), verbose = 1, callbacks=[callbacks])"
      ],
      "metadata": {
        "colab": {
          "base_uri": "https://localhost:8080/"
        },
        "id": "13XqH7xnePqb",
        "outputId": "375a5951-03d2-46df-d138-be33dc293f6b"
      },
      "execution_count": null,
      "outputs": [
        {
          "output_type": "stream",
          "name": "stdout",
          "text": [
            "Epoch 1/100\n",
            "36/38 [===========================>..] - ETA: 0s - loss: 11.8956 - accuracy: 0.1849\n",
            "Epoch 1: val_accuracy improved from -inf to 0.29333, saving model to model.h5\n",
            "38/38 [==============================] - 1s 11ms/step - loss: 11.5550 - accuracy: 0.1925 - val_loss: 2.7523 - val_accuracy: 0.2933\n",
            "Epoch 2/100\n",
            "36/38 [===========================>..] - ETA: 0s - loss: 2.9269 - accuracy: 0.3368\n",
            "Epoch 2: val_accuracy improved from 0.29333 to 0.42667, saving model to model.h5\n",
            "38/38 [==============================] - 0s 6ms/step - loss: 2.9057 - accuracy: 0.3413 - val_loss: 1.8527 - val_accuracy: 0.4267\n",
            "Epoch 3/100\n",
            "35/38 [==========================>...] - ETA: 0s - loss: 2.0885 - accuracy: 0.4786\n",
            "Epoch 3: val_accuracy improved from 0.42667 to 0.61167, saving model to model.h5\n",
            "38/38 [==============================] - 0s 7ms/step - loss: 2.0760 - accuracy: 0.4783 - val_loss: 1.3583 - val_accuracy: 0.6117\n",
            "Epoch 4/100\n",
            "35/38 [==========================>...] - ETA: 0s - loss: 1.6801 - accuracy: 0.5674\n",
            "Epoch 4: val_accuracy improved from 0.61167 to 0.72667, saving model to model.h5\n",
            "38/38 [==============================] - 0s 8ms/step - loss: 1.6790 - accuracy: 0.5675 - val_loss: 1.0837 - val_accuracy: 0.7267\n",
            "Epoch 5/100\n",
            "37/38 [============================>.] - ETA: 0s - loss: 1.4176 - accuracy: 0.6364\n",
            "Epoch 5: val_accuracy did not improve from 0.72667\n",
            "38/38 [==============================] - 0s 6ms/step - loss: 1.4191 - accuracy: 0.6363 - val_loss: 1.1161 - val_accuracy: 0.6950\n",
            "Epoch 6/100\n",
            "35/38 [==========================>...] - ETA: 0s - loss: 1.2883 - accuracy: 0.6723\n",
            "Epoch 6: val_accuracy improved from 0.72667 to 0.79500, saving model to model.h5\n",
            "38/38 [==============================] - 0s 7ms/step - loss: 1.2916 - accuracy: 0.6721 - val_loss: 0.9000 - val_accuracy: 0.7950\n",
            "Epoch 7/100\n",
            "36/38 [===========================>..] - ETA: 0s - loss: 1.0592 - accuracy: 0.7422\n",
            "Epoch 7: val_accuracy improved from 0.79500 to 0.83833, saving model to model.h5\n",
            "38/38 [==============================] - 0s 6ms/step - loss: 1.0535 - accuracy: 0.7442 - val_loss: 0.7980 - val_accuracy: 0.8383\n",
            "Epoch 8/100\n",
            "37/38 [============================>.] - ETA: 0s - loss: 1.0013 - accuracy: 0.7698\n",
            "Epoch 8: val_accuracy did not improve from 0.83833\n",
            "38/38 [==============================] - 0s 7ms/step - loss: 1.0005 - accuracy: 0.7696 - val_loss: 0.7846 - val_accuracy: 0.8350\n",
            "Epoch 9/100\n",
            "37/38 [============================>.] - ETA: 0s - loss: 0.9330 - accuracy: 0.7851\n",
            "Epoch 9: val_accuracy improved from 0.83833 to 0.84667, saving model to model.h5\n",
            "38/38 [==============================] - 0s 6ms/step - loss: 0.9312 - accuracy: 0.7842 - val_loss: 0.7498 - val_accuracy: 0.8467\n",
            "Epoch 10/100\n",
            "36/38 [===========================>..] - ETA: 0s - loss: 0.8894 - accuracy: 0.7934\n",
            "Epoch 10: val_accuracy did not improve from 0.84667\n",
            "38/38 [==============================] - 0s 7ms/step - loss: 0.8855 - accuracy: 0.7950 - val_loss: 0.8137 - val_accuracy: 0.8117\n",
            "Epoch 11/100\n",
            "36/38 [===========================>..] - ETA: 0s - loss: 0.8263 - accuracy: 0.8047\n",
            "Epoch 11: val_accuracy did not improve from 0.84667\n",
            "38/38 [==============================] - 0s 6ms/step - loss: 0.8287 - accuracy: 0.8029 - val_loss: 0.8004 - val_accuracy: 0.8300\n",
            "Epoch 12/100\n",
            "37/38 [============================>.] - ETA: 0s - loss: 0.7693 - accuracy: 0.8252\n",
            "Epoch 12: val_accuracy did not improve from 0.84667\n",
            "38/38 [==============================] - 0s 6ms/step - loss: 0.7687 - accuracy: 0.8258 - val_loss: 0.7391 - val_accuracy: 0.8400\n",
            "Epoch 13/100\n",
            "37/38 [============================>.] - ETA: 0s - loss: 0.7772 - accuracy: 0.8239\n",
            "Epoch 13: val_accuracy did not improve from 0.84667\n",
            "38/38 [==============================] - 0s 6ms/step - loss: 0.7838 - accuracy: 0.8225 - val_loss: 0.7306 - val_accuracy: 0.8367\n",
            "Epoch 14/100\n",
            "37/38 [============================>.] - ETA: 0s - loss: 0.7784 - accuracy: 0.8214\n",
            "Epoch 14: val_accuracy did not improve from 0.84667\n",
            "38/38 [==============================] - 0s 7ms/step - loss: 0.7754 - accuracy: 0.8217 - val_loss: 0.7960 - val_accuracy: 0.8250\n",
            "Epoch 15/100\n",
            "38/38 [==============================] - ETA: 0s - loss: 0.6971 - accuracy: 0.8504\n",
            "Epoch 15: val_accuracy improved from 0.84667 to 0.87833, saving model to model.h5\n",
            "38/38 [==============================] - 0s 6ms/step - loss: 0.6971 - accuracy: 0.8504 - val_loss: 0.6526 - val_accuracy: 0.8783\n",
            "Epoch 16/100\n",
            "34/38 [=========================>....] - ETA: 0s - loss: 0.6682 - accuracy: 0.8580\n",
            "Epoch 16: val_accuracy did not improve from 0.87833\n",
            "38/38 [==============================] - 0s 6ms/step - loss: 0.6743 - accuracy: 0.8567 - val_loss: 0.6514 - val_accuracy: 0.8717\n",
            "Epoch 17/100\n",
            "37/38 [============================>.] - ETA: 0s - loss: 0.6563 - accuracy: 0.8547\n",
            "Epoch 17: val_accuracy did not improve from 0.87833\n",
            "38/38 [==============================] - 0s 7ms/step - loss: 0.6572 - accuracy: 0.8542 - val_loss: 0.6349 - val_accuracy: 0.8733\n",
            "Epoch 18/100\n",
            "36/38 [===========================>..] - ETA: 0s - loss: 0.6458 - accuracy: 0.8655\n",
            "Epoch 18: val_accuracy improved from 0.87833 to 0.88833, saving model to model.h5\n",
            "38/38 [==============================] - 0s 8ms/step - loss: 0.6421 - accuracy: 0.8662 - val_loss: 0.5962 - val_accuracy: 0.8883\n",
            "Epoch 19/100\n",
            "37/38 [============================>.] - ETA: 0s - loss: 0.6256 - accuracy: 0.8712\n",
            "Epoch 19: val_accuracy did not improve from 0.88833\n",
            "38/38 [==============================] - 0s 6ms/step - loss: 0.6244 - accuracy: 0.8725 - val_loss: 0.6159 - val_accuracy: 0.8750\n",
            "Epoch 20/100\n",
            "37/38 [============================>.] - ETA: 0s - loss: 0.5770 - accuracy: 0.8771\n",
            "Epoch 20: val_accuracy did not improve from 0.88833\n",
            "38/38 [==============================] - 0s 6ms/step - loss: 0.5768 - accuracy: 0.8771 - val_loss: 0.6330 - val_accuracy: 0.8717\n",
            "Epoch 21/100\n",
            "37/38 [============================>.] - ETA: 0s - loss: 0.5874 - accuracy: 0.8758\n",
            "Epoch 21: val_accuracy did not improve from 0.88833\n",
            "38/38 [==============================] - 0s 6ms/step - loss: 0.5850 - accuracy: 0.8763 - val_loss: 0.6386 - val_accuracy: 0.8800\n",
            "Epoch 22/100\n",
            "36/38 [===========================>..] - ETA: 0s - loss: 0.6064 - accuracy: 0.8663\n",
            "Epoch 22: val_accuracy did not improve from 0.88833\n",
            "38/38 [==============================] - 0s 6ms/step - loss: 0.6062 - accuracy: 0.8654 - val_loss: 0.6599 - val_accuracy: 0.8667\n",
            "Epoch 23/100\n",
            "36/38 [===========================>..] - ETA: 0s - loss: 0.5879 - accuracy: 0.8707\n",
            "Epoch 23: val_accuracy did not improve from 0.88833\n",
            "38/38 [==============================] - 0s 6ms/step - loss: 0.5857 - accuracy: 0.8712 - val_loss: 0.6052 - val_accuracy: 0.8700\n",
            "Epoch 24/100\n",
            "37/38 [============================>.] - ETA: 0s - loss: 0.5183 - accuracy: 0.8940\n",
            "Epoch 24: val_accuracy improved from 0.88833 to 0.89167, saving model to model.h5\n",
            "38/38 [==============================] - 0s 7ms/step - loss: 0.5196 - accuracy: 0.8938 - val_loss: 0.5823 - val_accuracy: 0.8917\n",
            "Epoch 25/100\n",
            "37/38 [============================>.] - ETA: 0s - loss: 0.5031 - accuracy: 0.9029\n",
            "Epoch 25: val_accuracy improved from 0.89167 to 0.89333, saving model to model.h5\n",
            "38/38 [==============================] - 0s 7ms/step - loss: 0.5032 - accuracy: 0.9029 - val_loss: 0.5804 - val_accuracy: 0.8933\n",
            "Epoch 26/100\n",
            "37/38 [============================>.] - ETA: 0s - loss: 0.5112 - accuracy: 0.8940\n",
            "Epoch 26: val_accuracy did not improve from 0.89333\n",
            "38/38 [==============================] - 0s 6ms/step - loss: 0.5089 - accuracy: 0.8946 - val_loss: 0.6454 - val_accuracy: 0.8617\n",
            "Epoch 27/100\n",
            "36/38 [===========================>..] - ETA: 0s - loss: 0.5290 - accuracy: 0.8919\n",
            "Epoch 27: val_accuracy did not improve from 0.89333\n",
            "38/38 [==============================] - 0s 6ms/step - loss: 0.5251 - accuracy: 0.8929 - val_loss: 0.7027 - val_accuracy: 0.8517\n",
            "Epoch 28/100\n",
            "36/38 [===========================>..] - ETA: 0s - loss: 0.5302 - accuracy: 0.8859\n",
            "Epoch 28: val_accuracy improved from 0.89333 to 0.89667, saving model to model.h5\n",
            "38/38 [==============================] - 0s 7ms/step - loss: 0.5279 - accuracy: 0.8863 - val_loss: 0.5650 - val_accuracy: 0.8967\n",
            "Epoch 29/100\n",
            "35/38 [==========================>...] - ETA: 0s - loss: 0.4691 - accuracy: 0.9058\n",
            "Epoch 29: val_accuracy did not improve from 0.89667\n",
            "38/38 [==============================] - 0s 6ms/step - loss: 0.4752 - accuracy: 0.9025 - val_loss: 0.5816 - val_accuracy: 0.8900\n",
            "Epoch 30/100\n",
            "38/38 [==============================] - ETA: 0s - loss: 0.5123 - accuracy: 0.8975\n",
            "Epoch 30: val_accuracy improved from 0.89667 to 0.90167, saving model to model.h5\n",
            "38/38 [==============================] - 0s 6ms/step - loss: 0.5123 - accuracy: 0.8975 - val_loss: 0.5609 - val_accuracy: 0.9017\n",
            "Epoch 31/100\n",
            "36/38 [===========================>..] - ETA: 0s - loss: 0.4680 - accuracy: 0.9067\n",
            "Epoch 31: val_accuracy did not improve from 0.90167\n",
            "38/38 [==============================] - 0s 7ms/step - loss: 0.4726 - accuracy: 0.9038 - val_loss: 0.6422 - val_accuracy: 0.8517\n",
            "Epoch 32/100\n",
            "37/38 [============================>.] - ETA: 0s - loss: 0.5014 - accuracy: 0.8953\n",
            "Epoch 32: val_accuracy did not improve from 0.90167\n",
            "38/38 [==============================] - 0s 6ms/step - loss: 0.5010 - accuracy: 0.8958 - val_loss: 0.6138 - val_accuracy: 0.8700\n",
            "Epoch 33/100\n",
            "36/38 [===========================>..] - ETA: 0s - loss: 0.4673 - accuracy: 0.9080\n",
            "Epoch 33: val_accuracy did not improve from 0.90167\n",
            "38/38 [==============================] - 0s 6ms/step - loss: 0.4686 - accuracy: 0.9062 - val_loss: 0.5299 - val_accuracy: 0.8917\n",
            "Epoch 34/100\n",
            "37/38 [============================>.] - ETA: 0s - loss: 0.4489 - accuracy: 0.9109\n",
            "Epoch 34: val_accuracy improved from 0.90167 to 0.90667, saving model to model.h5\n",
            "38/38 [==============================] - 0s 6ms/step - loss: 0.4486 - accuracy: 0.9108 - val_loss: 0.5264 - val_accuracy: 0.9067\n",
            "Epoch 35/100\n",
            "35/38 [==========================>...] - ETA: 0s - loss: 0.4832 - accuracy: 0.8987\n",
            "Epoch 35: val_accuracy did not improve from 0.90667\n",
            "38/38 [==============================] - 0s 6ms/step - loss: 0.4822 - accuracy: 0.8996 - val_loss: 0.5549 - val_accuracy: 0.8950\n",
            "Epoch 36/100\n",
            "35/38 [==========================>...] - ETA: 0s - loss: 0.4284 - accuracy: 0.9196\n",
            "Epoch 36: val_accuracy did not improve from 0.90667\n",
            "38/38 [==============================] - 0s 6ms/step - loss: 0.4273 - accuracy: 0.9192 - val_loss: 0.5959 - val_accuracy: 0.8667\n",
            "Epoch 37/100\n",
            "37/38 [============================>.] - ETA: 0s - loss: 0.4520 - accuracy: 0.9147\n",
            "Epoch 37: val_accuracy improved from 0.90667 to 0.91333, saving model to model.h5\n",
            "38/38 [==============================] - 0s 6ms/step - loss: 0.4511 - accuracy: 0.9150 - val_loss: 0.4877 - val_accuracy: 0.9133\n",
            "Epoch 38/100\n",
            "37/38 [============================>.] - ETA: 0s - loss: 0.3930 - accuracy: 0.9295\n",
            "Epoch 38: val_accuracy improved from 0.91333 to 0.92000, saving model to model.h5\n",
            "38/38 [==============================] - 0s 7ms/step - loss: 0.3930 - accuracy: 0.9287 - val_loss: 0.4826 - val_accuracy: 0.9200\n",
            "Epoch 39/100\n",
            "35/38 [==========================>...] - ETA: 0s - loss: 0.3874 - accuracy: 0.9326\n",
            "Epoch 39: val_accuracy did not improve from 0.92000\n",
            "38/38 [==============================] - 0s 7ms/step - loss: 0.3941 - accuracy: 0.9304 - val_loss: 0.5209 - val_accuracy: 0.9050\n",
            "Epoch 40/100\n",
            "36/38 [===========================>..] - ETA: 0s - loss: 0.3956 - accuracy: 0.9271\n",
            "Epoch 40: val_accuracy did not improve from 0.92000\n",
            "38/38 [==============================] - 0s 6ms/step - loss: 0.3929 - accuracy: 0.9279 - val_loss: 0.4968 - val_accuracy: 0.9100\n",
            "Epoch 41/100\n",
            "36/38 [===========================>..] - ETA: 0s - loss: 0.3929 - accuracy: 0.9253\n",
            "Epoch 41: val_accuracy did not improve from 0.92000\n",
            "38/38 [==============================] - 0s 6ms/step - loss: 0.3949 - accuracy: 0.9246 - val_loss: 0.5141 - val_accuracy: 0.8983\n",
            "Epoch 42/100\n",
            "37/38 [============================>.] - ETA: 0s - loss: 0.3723 - accuracy: 0.9295\n",
            "Epoch 42: val_accuracy did not improve from 0.92000\n",
            "38/38 [==============================] - 0s 7ms/step - loss: 0.3720 - accuracy: 0.9296 - val_loss: 0.4981 - val_accuracy: 0.9050\n",
            "Epoch 43/100\n",
            "35/38 [==========================>...] - ETA: 0s - loss: 0.4036 - accuracy: 0.9210\n",
            "Epoch 43: val_accuracy did not improve from 0.92000\n",
            "38/38 [==============================] - 0s 6ms/step - loss: 0.4096 - accuracy: 0.9179 - val_loss: 0.5377 - val_accuracy: 0.8983\n",
            "Epoch 44/100\n",
            "36/38 [===========================>..] - ETA: 0s - loss: 0.3895 - accuracy: 0.9262\n",
            "Epoch 44: val_accuracy did not improve from 0.92000\n",
            "38/38 [==============================] - 0s 7ms/step - loss: 0.3871 - accuracy: 0.9271 - val_loss: 0.5334 - val_accuracy: 0.8883\n",
            "Epoch 45/100\n",
            "37/38 [============================>.] - ETA: 0s - loss: 0.3619 - accuracy: 0.9341\n",
            "Epoch 45: val_accuracy did not improve from 0.92000\n",
            "38/38 [==============================] - 0s 6ms/step - loss: 0.3619 - accuracy: 0.9342 - val_loss: 0.5168 - val_accuracy: 0.8967\n",
            "Epoch 46/100\n",
            "34/38 [=========================>....] - ETA: 0s - loss: 0.4001 - accuracy: 0.9200\n",
            "Epoch 46: val_accuracy did not improve from 0.92000\n",
            "38/38 [==============================] - 0s 6ms/step - loss: 0.3992 - accuracy: 0.9196 - val_loss: 0.5056 - val_accuracy: 0.9083\n",
            "Epoch 47/100\n",
            "37/38 [============================>.] - ETA: 0s - loss: 0.4468 - accuracy: 0.9033\n",
            "Epoch 47: val_accuracy did not improve from 0.92000\n",
            "38/38 [==============================] - 0s 6ms/step - loss: 0.4474 - accuracy: 0.9029 - val_loss: 0.4864 - val_accuracy: 0.9083\n",
            "Epoch 48/100\n",
            "37/38 [============================>.] - ETA: 0s - loss: 0.3953 - accuracy: 0.9253\n",
            "Epoch 48: val_accuracy did not improve from 0.92000\n",
            "38/38 [==============================] - 0s 6ms/step - loss: 0.3940 - accuracy: 0.9258 - val_loss: 0.5073 - val_accuracy: 0.9017\n",
            "Epoch 49/100\n",
            "37/38 [============================>.] - ETA: 0s - loss: 0.3542 - accuracy: 0.9405\n",
            "Epoch 49: val_accuracy did not improve from 0.92000\n",
            "38/38 [==============================] - 0s 7ms/step - loss: 0.3541 - accuracy: 0.9400 - val_loss: 0.4838 - val_accuracy: 0.9133\n",
            "Epoch 50/100\n",
            "36/38 [===========================>..] - ETA: 0s - loss: 0.3637 - accuracy: 0.9332\n",
            "Epoch 50: val_accuracy did not improve from 0.92000\n",
            "38/38 [==============================] - 0s 7ms/step - loss: 0.3603 - accuracy: 0.9346 - val_loss: 0.4983 - val_accuracy: 0.8967\n",
            "Epoch 51/100\n",
            "37/38 [============================>.] - ETA: 0s - loss: 0.3413 - accuracy: 0.9400\n",
            "Epoch 51: val_accuracy did not improve from 0.92000\n",
            "38/38 [==============================] - 0s 7ms/step - loss: 0.3396 - accuracy: 0.9408 - val_loss: 0.5214 - val_accuracy: 0.8983\n",
            "Epoch 52/100\n",
            "37/38 [============================>.] - ETA: 0s - loss: 0.3530 - accuracy: 0.9367\n",
            "Epoch 52: val_accuracy did not improve from 0.92000\n",
            "38/38 [==============================] - 0s 6ms/step - loss: 0.3523 - accuracy: 0.9367 - val_loss: 0.5153 - val_accuracy: 0.9033\n",
            "Epoch 53/100\n",
            "36/38 [===========================>..] - ETA: 0s - loss: 0.3389 - accuracy: 0.9397\n",
            "Epoch 53: val_accuracy did not improve from 0.92000\n",
            "38/38 [==============================] - 0s 7ms/step - loss: 0.3493 - accuracy: 0.9383 - val_loss: 0.4926 - val_accuracy: 0.9117\n",
            "Epoch 54/100\n",
            "37/38 [============================>.] - ETA: 0s - loss: 0.3558 - accuracy: 0.9345\n",
            "Epoch 54: val_accuracy did not improve from 0.92000\n",
            "38/38 [==============================] - 0s 7ms/step - loss: 0.3542 - accuracy: 0.9354 - val_loss: 0.4830 - val_accuracy: 0.9017\n",
            "Epoch 55/100\n",
            "37/38 [============================>.] - ETA: 0s - loss: 0.3194 - accuracy: 0.9481\n",
            "Epoch 55: val_accuracy did not improve from 0.92000\n",
            "38/38 [==============================] - 0s 7ms/step - loss: 0.3189 - accuracy: 0.9488 - val_loss: 0.4834 - val_accuracy: 0.9100\n",
            "Epoch 56/100\n",
            "35/38 [==========================>...] - ETA: 0s - loss: 0.3285 - accuracy: 0.9469\n",
            "Epoch 56: val_accuracy did not improve from 0.92000\n",
            "38/38 [==============================] - 0s 7ms/step - loss: 0.3270 - accuracy: 0.9463 - val_loss: 0.4834 - val_accuracy: 0.9117\n",
            "Epoch 57/100\n",
            "35/38 [==========================>...] - ETA: 0s - loss: 0.3425 - accuracy: 0.9402\n",
            "Epoch 57: val_accuracy did not improve from 0.92000\n",
            "38/38 [==============================] - 0s 6ms/step - loss: 0.3464 - accuracy: 0.9388 - val_loss: 0.5443 - val_accuracy: 0.8850\n",
            "Epoch 58/100\n",
            "35/38 [==========================>...] - ETA: 0s - loss: 0.3972 - accuracy: 0.9219\n",
            "Epoch 58: val_accuracy did not improve from 0.92000\n",
            "38/38 [==============================] - 0s 6ms/step - loss: 0.3907 - accuracy: 0.9242 - val_loss: 0.4871 - val_accuracy: 0.9100\n",
            "Epoch 59/100\n",
            "37/38 [============================>.] - ETA: 0s - loss: 0.3151 - accuracy: 0.9426\n",
            "Epoch 59: val_accuracy did not improve from 0.92000\n",
            "38/38 [==============================] - 0s 7ms/step - loss: 0.3145 - accuracy: 0.9433 - val_loss: 0.4911 - val_accuracy: 0.8950\n",
            "Epoch 60/100\n",
            "36/38 [===========================>..] - ETA: 0s - loss: 0.2885 - accuracy: 0.9557\n",
            "Epoch 60: val_accuracy did not improve from 0.92000\n",
            "38/38 [==============================] - 0s 6ms/step - loss: 0.2877 - accuracy: 0.9558 - val_loss: 0.4593 - val_accuracy: 0.9083\n",
            "Epoch 61/100\n",
            "37/38 [============================>.] - ETA: 0s - loss: 0.3382 - accuracy: 0.9375\n",
            "Epoch 61: val_accuracy did not improve from 0.92000\n",
            "38/38 [==============================] - 0s 6ms/step - loss: 0.3412 - accuracy: 0.9367 - val_loss: 0.5342 - val_accuracy: 0.8883\n",
            "Epoch 62/100\n",
            "36/38 [===========================>..] - ETA: 0s - loss: 0.2995 - accuracy: 0.9488\n",
            "Epoch 62: val_accuracy improved from 0.92000 to 0.92333, saving model to model.h5\n",
            "38/38 [==============================] - 0s 7ms/step - loss: 0.2970 - accuracy: 0.9496 - val_loss: 0.4542 - val_accuracy: 0.9233\n",
            "Epoch 63/100\n",
            "35/38 [==========================>...] - ETA: 0s - loss: 0.3033 - accuracy: 0.9522\n",
            "Epoch 63: val_accuracy did not improve from 0.92333\n",
            "38/38 [==============================] - 0s 6ms/step - loss: 0.3045 - accuracy: 0.9521 - val_loss: 0.4675 - val_accuracy: 0.9183\n",
            "Epoch 64/100\n",
            "36/38 [===========================>..] - ETA: 0s - loss: 0.3056 - accuracy: 0.9479\n",
            "Epoch 64: val_accuracy did not improve from 0.92333\n",
            "38/38 [==============================] - 0s 6ms/step - loss: 0.3010 - accuracy: 0.9500 - val_loss: 0.4662 - val_accuracy: 0.9133\n",
            "Epoch 65/100\n",
            "35/38 [==========================>...] - ETA: 0s - loss: 0.2826 - accuracy: 0.9585\n",
            "Epoch 65: val_accuracy did not improve from 0.92333\n",
            "38/38 [==============================] - 0s 6ms/step - loss: 0.2800 - accuracy: 0.9596 - val_loss: 0.4613 - val_accuracy: 0.9100\n",
            "Epoch 66/100\n",
            "33/38 [=========================>....] - ETA: 0s - loss: 0.2782 - accuracy: 0.9588\n",
            "Epoch 66: val_accuracy improved from 0.92333 to 0.92500, saving model to model.h5\n",
            "38/38 [==============================] - 0s 7ms/step - loss: 0.2726 - accuracy: 0.9608 - val_loss: 0.4665 - val_accuracy: 0.9250\n",
            "Epoch 67/100\n",
            "37/38 [============================>.] - ETA: 0s - loss: 0.2830 - accuracy: 0.9548\n",
            "Epoch 67: val_accuracy did not improve from 0.92500\n",
            "38/38 [==============================] - 0s 7ms/step - loss: 0.2833 - accuracy: 0.9542 - val_loss: 0.4672 - val_accuracy: 0.9183\n",
            "Epoch 68/100\n",
            "33/38 [=========================>....] - ETA: 0s - loss: 0.2986 - accuracy: 0.9517\n",
            "Epoch 68: val_accuracy did not improve from 0.92500\n",
            "38/38 [==============================] - 0s 7ms/step - loss: 0.2951 - accuracy: 0.9529 - val_loss: 0.4622 - val_accuracy: 0.9183\n",
            "Epoch 69/100\n",
            "36/38 [===========================>..] - ETA: 0s - loss: 0.3097 - accuracy: 0.9453\n",
            "Epoch 69: val_accuracy did not improve from 0.92500\n",
            "38/38 [==============================] - 0s 7ms/step - loss: 0.3075 - accuracy: 0.9467 - val_loss: 0.5457 - val_accuracy: 0.8833\n",
            "Epoch 70/100\n",
            "36/38 [===========================>..] - ETA: 0s - loss: 0.2831 - accuracy: 0.9523\n",
            "Epoch 70: val_accuracy did not improve from 0.92500\n",
            "38/38 [==============================] - 0s 7ms/step - loss: 0.2808 - accuracy: 0.9538 - val_loss: 0.4746 - val_accuracy: 0.9117\n",
            "Epoch 71/100\n",
            "35/38 [==========================>...] - ETA: 0s - loss: 0.2984 - accuracy: 0.9478\n",
            "Epoch 71: val_accuracy did not improve from 0.92500\n",
            "38/38 [==============================] - 0s 6ms/step - loss: 0.3033 - accuracy: 0.9467 - val_loss: 0.4731 - val_accuracy: 0.9100\n",
            "Epoch 72/100\n",
            "34/38 [=========================>....] - ETA: 0s - loss: 0.2885 - accuracy: 0.9513\n",
            "Epoch 72: val_accuracy did not improve from 0.92500\n",
            "38/38 [==============================] - 0s 7ms/step - loss: 0.2900 - accuracy: 0.9513 - val_loss: 0.5586 - val_accuracy: 0.8917\n",
            "Epoch 73/100\n",
            "36/38 [===========================>..] - ETA: 0s - loss: 0.3055 - accuracy: 0.9444\n",
            "Epoch 73: val_accuracy did not improve from 0.92500\n",
            "38/38 [==============================] - 0s 6ms/step - loss: 0.3044 - accuracy: 0.9458 - val_loss: 0.4695 - val_accuracy: 0.9167\n",
            "Epoch 74/100\n",
            "37/38 [============================>.] - ETA: 0s - loss: 0.2869 - accuracy: 0.9519\n",
            "Epoch 74: val_accuracy did not improve from 0.92500\n",
            "38/38 [==============================] - 0s 6ms/step - loss: 0.2875 - accuracy: 0.9513 - val_loss: 0.4632 - val_accuracy: 0.9200\n",
            "Epoch 75/100\n",
            "36/38 [===========================>..] - ETA: 0s - loss: 0.2929 - accuracy: 0.9531\n",
            "Epoch 75: val_accuracy did not improve from 0.92500\n",
            "38/38 [==============================] - 0s 6ms/step - loss: 0.2915 - accuracy: 0.9538 - val_loss: 0.4540 - val_accuracy: 0.9217\n",
            "Epoch 76/100\n",
            "33/38 [=========================>....] - ETA: 0s - loss: 0.2721 - accuracy: 0.9664\n",
            "Epoch 76: val_accuracy did not improve from 0.92500\n",
            "38/38 [==============================] - 0s 6ms/step - loss: 0.2785 - accuracy: 0.9633 - val_loss: 0.4733 - val_accuracy: 0.9200\n",
            "Epoch 77/100\n",
            "36/38 [===========================>..] - ETA: 0s - loss: 0.2661 - accuracy: 0.9601\n",
            "Epoch 77: val_accuracy did not improve from 0.92500\n",
            "38/38 [==============================] - 0s 7ms/step - loss: 0.2653 - accuracy: 0.9604 - val_loss: 0.4506 - val_accuracy: 0.9200\n",
            "Epoch 78/100\n",
            "35/38 [==========================>...] - ETA: 0s - loss: 0.2638 - accuracy: 0.9598\n",
            "Epoch 78: val_accuracy did not improve from 0.92500\n",
            "38/38 [==============================] - 0s 6ms/step - loss: 0.2642 - accuracy: 0.9592 - val_loss: 0.4398 - val_accuracy: 0.9167\n",
            "Epoch 79/100\n",
            "36/38 [===========================>..] - ETA: 0s - loss: 0.2436 - accuracy: 0.9674\n",
            "Epoch 79: val_accuracy did not improve from 0.92500\n",
            "38/38 [==============================] - 0s 7ms/step - loss: 0.2458 - accuracy: 0.9667 - val_loss: 0.4696 - val_accuracy: 0.9200\n",
            "Epoch 80/100\n",
            "34/38 [=========================>....] - ETA: 0s - loss: 0.2545 - accuracy: 0.9586\n",
            "Epoch 80: val_accuracy did not improve from 0.92500\n",
            "38/38 [==============================] - 0s 7ms/step - loss: 0.2556 - accuracy: 0.9588 - val_loss: 0.4519 - val_accuracy: 0.9117\n",
            "Epoch 81/100\n",
            "36/38 [===========================>..] - ETA: 0s - loss: 0.2611 - accuracy: 0.9640\n",
            "Epoch 81: val_accuracy did not improve from 0.92500\n",
            "38/38 [==============================] - 0s 6ms/step - loss: 0.2599 - accuracy: 0.9646 - val_loss: 0.4416 - val_accuracy: 0.9183\n",
            "Epoch 82/100\n",
            "36/38 [===========================>..] - ETA: 0s - loss: 0.2726 - accuracy: 0.9536\n",
            "Epoch 82: val_accuracy did not improve from 0.92500\n",
            "38/38 [==============================] - 0s 6ms/step - loss: 0.2710 - accuracy: 0.9538 - val_loss: 0.4486 - val_accuracy: 0.9217\n",
            "Epoch 83/100\n",
            "33/38 [=========================>....] - ETA: 0s - loss: 0.2654 - accuracy: 0.9593\n",
            "Epoch 83: val_accuracy did not improve from 0.92500\n",
            "38/38 [==============================] - 0s 6ms/step - loss: 0.2631 - accuracy: 0.9608 - val_loss: 0.5185 - val_accuracy: 0.8800\n",
            "Epoch 84/100\n",
            "37/38 [============================>.] - ETA: 0s - loss: 0.2730 - accuracy: 0.9510\n",
            "Epoch 84: val_accuracy did not improve from 0.92500\n",
            "38/38 [==============================] - 0s 7ms/step - loss: 0.2732 - accuracy: 0.9513 - val_loss: 0.4640 - val_accuracy: 0.9133\n",
            "Epoch 85/100\n",
            "36/38 [===========================>..] - ETA: 0s - loss: 0.3254 - accuracy: 0.9349\n",
            "Epoch 85: val_accuracy did not improve from 0.92500\n",
            "38/38 [==============================] - 0s 6ms/step - loss: 0.3226 - accuracy: 0.9367 - val_loss: 0.5340 - val_accuracy: 0.8933\n",
            "Epoch 86/100\n",
            "36/38 [===========================>..] - ETA: 0s - loss: 0.2495 - accuracy: 0.9640\n",
            "Epoch 86: val_accuracy did not improve from 0.92500\n",
            "38/38 [==============================] - 0s 7ms/step - loss: 0.2492 - accuracy: 0.9638 - val_loss: 0.4813 - val_accuracy: 0.9017\n",
            "Epoch 87/100\n",
            "35/38 [==========================>...] - ETA: 0s - loss: 0.2676 - accuracy: 0.9558\n",
            "Epoch 87: val_accuracy did not improve from 0.92500\n",
            "38/38 [==============================] - 0s 7ms/step - loss: 0.2670 - accuracy: 0.9563 - val_loss: 0.4776 - val_accuracy: 0.9033\n",
            "Epoch 88/100\n",
            "36/38 [===========================>..] - ETA: 0s - loss: 0.2769 - accuracy: 0.9531\n",
            "Epoch 88: val_accuracy did not improve from 0.92500\n",
            "38/38 [==============================] - 0s 6ms/step - loss: 0.2773 - accuracy: 0.9533 - val_loss: 0.5267 - val_accuracy: 0.8983\n",
            "Epoch 89/100\n",
            "35/38 [==========================>...] - ETA: 0s - loss: 0.3054 - accuracy: 0.9397\n",
            "Epoch 89: val_accuracy did not improve from 0.92500\n",
            "38/38 [==============================] - 0s 6ms/step - loss: 0.3038 - accuracy: 0.9413 - val_loss: 0.4587 - val_accuracy: 0.9033\n",
            "Epoch 90/100\n",
            "33/38 [=========================>....] - ETA: 0s - loss: 0.2981 - accuracy: 0.9474\n",
            "Epoch 90: val_accuracy did not improve from 0.92500\n",
            "38/38 [==============================] - 0s 6ms/step - loss: 0.2922 - accuracy: 0.9492 - val_loss: 0.5065 - val_accuracy: 0.9033\n",
            "Epoch 91/100\n",
            "36/38 [===========================>..] - ETA: 0s - loss: 0.2562 - accuracy: 0.9640\n",
            "Epoch 91: val_accuracy did not improve from 0.92500\n",
            "38/38 [==============================] - 0s 6ms/step - loss: 0.2594 - accuracy: 0.9621 - val_loss: 0.5300 - val_accuracy: 0.8900\n",
            "Epoch 92/100\n",
            "35/38 [==========================>...] - ETA: 0s - loss: 0.2672 - accuracy: 0.9585\n",
            "Epoch 92: val_accuracy did not improve from 0.92500\n",
            "38/38 [==============================] - 0s 7ms/step - loss: 0.2657 - accuracy: 0.9579 - val_loss: 0.4362 - val_accuracy: 0.9167\n",
            "Epoch 93/100\n",
            "36/38 [===========================>..] - ETA: 0s - loss: 0.2521 - accuracy: 0.9588\n",
            "Epoch 93: val_accuracy did not improve from 0.92500\n",
            "38/38 [==============================] - 0s 6ms/step - loss: 0.2550 - accuracy: 0.9583 - val_loss: 0.4355 - val_accuracy: 0.9100\n",
            "Epoch 94/100\n",
            "36/38 [===========================>..] - ETA: 0s - loss: 0.2312 - accuracy: 0.9701\n",
            "Epoch 94: val_accuracy did not improve from 0.92500\n",
            "38/38 [==============================] - 0s 6ms/step - loss: 0.2321 - accuracy: 0.9700 - val_loss: 0.4270 - val_accuracy: 0.9100\n",
            "Epoch 95/100\n",
            "36/38 [===========================>..] - ETA: 0s - loss: 0.2263 - accuracy: 0.9735\n",
            "Epoch 95: val_accuracy did not improve from 0.92500\n",
            "38/38 [==============================] - 0s 6ms/step - loss: 0.2271 - accuracy: 0.9729 - val_loss: 0.4297 - val_accuracy: 0.9150\n",
            "Epoch 96/100\n",
            "35/38 [==========================>...] - ETA: 0s - loss: 0.2445 - accuracy: 0.9670\n",
            "Epoch 96: val_accuracy did not improve from 0.92500\n",
            "38/38 [==============================] - 0s 6ms/step - loss: 0.2494 - accuracy: 0.9654 - val_loss: 0.4699 - val_accuracy: 0.9017\n",
            "Epoch 97/100\n",
            "34/38 [=========================>....] - ETA: 0s - loss: 0.2387 - accuracy: 0.9646\n",
            "Epoch 97: val_accuracy did not improve from 0.92500\n",
            "38/38 [==============================] - 0s 7ms/step - loss: 0.2374 - accuracy: 0.9658 - val_loss: 0.4471 - val_accuracy: 0.9167\n",
            "Epoch 98/100\n",
            "37/38 [============================>.] - ETA: 0s - loss: 0.2269 - accuracy: 0.9709\n",
            "Epoch 98: val_accuracy did not improve from 0.92500\n",
            "38/38 [==============================] - 0s 7ms/step - loss: 0.2264 - accuracy: 0.9712 - val_loss: 0.4261 - val_accuracy: 0.9183\n",
            "Epoch 99/100\n",
            "36/38 [===========================>..] - ETA: 0s - loss: 0.2442 - accuracy: 0.9635\n",
            "Epoch 99: val_accuracy did not improve from 0.92500\n",
            "38/38 [==============================] - 0s 6ms/step - loss: 0.2428 - accuracy: 0.9646 - val_loss: 0.4367 - val_accuracy: 0.9167\n",
            "Epoch 100/100\n",
            "35/38 [==========================>...] - ETA: 0s - loss: 0.2101 - accuracy: 0.9790\n",
            "Epoch 100: val_accuracy did not improve from 0.92500\n",
            "38/38 [==============================] - 0s 7ms/step - loss: 0.2082 - accuracy: 0.9796 - val_loss: 0.4324 - val_accuracy: 0.9150\n"
          ]
        }
      ]
    },
    {
      "cell_type": "code",
      "source": [
        "from sklearn.metrics import accuracy_score\n",
        "from keras.models import load_model\n",
        "model = load_model('model.h5')\n",
        "print(\"Test Accuracy is \", model.evaluate(x_test, y_test)[1])"
      ],
      "metadata": {
        "colab": {
          "base_uri": "https://localhost:8080/"
        },
        "id": "b3zpiifEfQMV",
        "outputId": "da75ba89-862a-41f2-f313-9a1b96b698cc"
      },
      "execution_count": null,
      "outputs": [
        {
          "output_type": "stream",
          "name": "stdout",
          "text": [
            "19/19 [==============================] - 0s 3ms/step - loss: 0.4665 - accuracy: 0.9250\n",
            "Test Accuracy is  0.925000011920929\n"
          ]
        }
      ]
    },
    {
      "cell_type": "code",
      "source": [
        "hist_df = pd.DataFrame(history.history) \n",
        "modelName=\"padding\"\n",
        "hist_df.to_csv(\"/content/drive/MyDrive/AICS-paper/NEW/\"+modelName+\".csv\")\n",
        "# save model\n",
        "model.save('/content/drive/MyDrive/AICS-paper/NEW/'+modelName+'.h5')"
      ],
      "metadata": {
        "id": "OmeMXDZOtRT8"
      },
      "execution_count": null,
      "outputs": []
    },
    {
      "cell_type": "code",
      "source": [
        "plt.style.use(\"ggplot\")\n",
        "plt.plot(history.history['accuracy'])\n",
        "plt.plot(history.history['val_accuracy'])\n",
        "plt.title('Model Accuracy')\n",
        "plt.ylabel('Accuracy')\n",
        "plt.xlabel('Epoch')\n",
        "plt.legend(['Train', 'Test'], loc='upper left')\n",
        "plt.show()"
      ],
      "metadata": {
        "colab": {
          "base_uri": "https://localhost:8080/",
          "height": 295
        },
        "id": "GtOfzFdWfVCB",
        "outputId": "fc91da1a-afbb-4a60-c58a-4c1dc4838325"
      },
      "execution_count": null,
      "outputs": [
        {
          "output_type": "display_data",
          "data": {
            "text/plain": [
              "<Figure size 432x288 with 1 Axes>"
            ],
            "image/png": "[encoded data removed]"
          },
          "metadata": {
            "needs_background": "light"
          }
        }
      ]
    },
    {
      "cell_type": "code",
      "source": [
        "np.save(model)"
      ],
      "metadata": {
        "id": "y3tm9Zh8gXQr"
      },
      "execution_count": null,
      "outputs": []
    }
  ],
  "metadata": {
    "accelerator": "GPU",
    "colab": {
      "provenance": [],
      "collapsed_sections": []
    },
    "kernelspec": {
      "display_name": "Python 3",
      "name": "python3"
    },
    "language_info": {
      "name": "python"
    }
  },
  "nbformat": 4,
  "nbformat_minor": 0
}
